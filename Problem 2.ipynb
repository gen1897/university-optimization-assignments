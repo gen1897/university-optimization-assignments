{
 "cells": [
  {
   "cell_type": "markdown",
   "metadata": {},
   "source": [
    "**Time of each taxi for different clients.**  "
   ]
  },
  {
   "cell_type": "code",
   "execution_count": 2,
   "metadata": {},
   "outputs": [],
   "source": [
    "time_table = ((5,7,3,5,8),(3,2,1,4,6),(2,10,8,6,7),(4,6,4,5,9),(5,8,2,8,8))"
   ]
  },
  {
   "cell_type": "markdown",
   "metadata": {},
   "source": [
    "**GA setup**"
   ]
  },
  {
   "cell_type": "code",
   "execution_count": 3,
   "metadata": {},
   "outputs": [],
   "source": [
    "import random\n",
    "import numpy\n",
    "from deap import creator, base, tools, algorithms"
   ]
  },
  {
   "cell_type": "markdown",
   "metadata": {},
   "source": [
    "Minimize time implies *FitnessMin* and negative weights."
   ]
  },
  {
   "cell_type": "code",
   "execution_count": 4,
   "metadata": {},
   "outputs": [],
   "source": [
    "creator.create(\"FitnessMin\", base.Fitness, weights=(-1.0,))\n",
    "creator.create(\"Individual\", list, fitness=creator.FitnessMin)"
   ]
  },
  {
   "cell_type": "markdown",
   "metadata": {},
   "source": [
    "Toolbox creation."
   ]
  },
  {
   "cell_type": "code",
   "execution_count": 5,
   "metadata": {},
   "outputs": [],
   "source": [
    "toolbox = base.Toolbox()"
   ]
  },
  {
   "cell_type": "markdown",
   "metadata": {},
   "source": [
    "Register attributes. Random permutation to avoid repeated taxis."
   ]
  },
  {
   "cell_type": "code",
   "execution_count": 6,
   "metadata": {},
   "outputs": [],
   "source": [
    "toolbox.register(\"attrInt\", numpy.random.permutation, len(time_table))"
   ]
  },
  {
   "cell_type": "markdown",
   "metadata": {},
   "source": [
    "Iterate individuals and change its order."
   ]
  },
  {
   "cell_type": "code",
   "execution_count": 7,
   "metadata": {},
   "outputs": [],
   "source": [
    "toolbox.register(\"individual\", tools.initIterate, creator.Individual,\n",
    "                 toolbox.attrInt)"
   ]
  },
  {
   "cell_type": "code",
   "execution_count": 8,
   "metadata": {},
   "outputs": [],
   "source": [
    "toolbox.register(\"population\",tools.initRepeat, list, toolbox.individual)"
   ]
  },
  {
   "cell_type": "markdown",
   "metadata": {},
   "source": [
    "**Objective function**"
   ]
  },
  {
   "cell_type": "markdown",
   "metadata": {},
   "source": [
    "Iterate solution to sum times."
   ]
  },
  {
   "cell_type": "code",
   "execution_count": 9,
   "metadata": {},
   "outputs": [],
   "source": [
    "def calc_time(solution):\n",
    "    time = 0\n",
    "    position = 0\n",
    "    for i in solution:\n",
    "        time = time + time_table[position][i]\n",
    "        position = position + 1\n",
    "    \n",
    "    return (time,)"
   ]
  },
  {
   "cell_type": "markdown",
   "metadata": {},
   "source": [
    "**Set up GA elements**"
   ]
  },
  {
   "cell_type": "markdown",
   "metadata": {},
   "source": [
    "cxOrdered and mutShuffleIndexes to change positions and dont repeat them."
   ]
  },
  {
   "cell_type": "code",
   "execution_count": 10,
   "metadata": {},
   "outputs": [],
   "source": [
    "toolbox.register(\"evaluate\", calc_time)\n",
    "toolbox.register(\"mate\", tools.cxOrdered)\n",
    "toolbox.register(\"mutate\", tools.mutShuffleIndexes, indpb=0.05)\n",
    "toolbox.register(\"select\", tools.selTournament, tournsize=3)"
   ]
  },
  {
   "cell_type": "markdown",
   "metadata": {},
   "source": [
    "**Running GA**"
   ]
  },
  {
   "cell_type": "code",
   "execution_count": 29,
   "metadata": {},
   "outputs": [],
   "source": [
    "population = toolbox.population(100)\n",
    "\n",
    "NGEN = 20"
   ]
  },
  {
   "cell_type": "code",
   "execution_count": 30,
   "metadata": {},
   "outputs": [
    {
     "name": "stdout",
     "output_type": "stream",
     "text": [
      "Gen: 0 Time: 20\n",
      "Gen: 1 Time: 19\n",
      "Gen: 2 Time: 19\n",
      "Gen: 3 Time: 19\n",
      "Gen: 4 Time: 19\n",
      "Gen: 5 Time: 19\n",
      "Gen: 6 Time: 19\n",
      "Gen: 7 Time: 19\n",
      "Gen: 8 Time: 19\n",
      "Gen: 9 Time: 19\n",
      "Gen: 10 Time: 19\n",
      "Gen: 11 Time: 19\n",
      "Gen: 12 Time: 19\n",
      "Gen: 13 Time: 19\n",
      "Gen: 14 Time: 19\n",
      "Gen: 15 Time: 19\n",
      "Gen: 16 Time: 19\n",
      "Gen: 17 Time: 19\n",
      "Gen: 18 Time: 19\n",
      "Gen: 19 Time: 19\n",
      "============================================================\n",
      "Best solutions: [4, 1, 0, 3, 2]\n"
     ]
    }
   ],
   "source": [
    "for gen in range(NGEN):\n",
    "    offspring = algorithms.varAnd(population, toolbox, cxpb=0.5, mutpb=0.05)\n",
    "    fits = toolbox.map(toolbox.evaluate, offspring)\n",
    "    for fit, ind in zip(fits, offspring):\n",
    "        ind.fitness.values = fit\n",
    "        \n",
    "    population = toolbox.select(offspring, k=len(population))\n",
    "    \n",
    "    top = tools.selBest(population, k=1)\n",
    "    print(\"Gen:\",gen,\"Time:\", calc_time(top[0])[0])\n",
    "    \n",
    "print(\"=\"*60)\n",
    "top10 = tools.selBest(population, k=10)\n",
    "print(\"Best solutions:\",top10[0])"
   ]
  },
  {
   "cell_type": "markdown",
   "metadata": {},
   "source": [
    "As there are only a few number of combinations, the algorithm can solve it fast."
   ]
  },
  {
   "cell_type": "markdown",
   "metadata": {},
   "source": [
    "Some times it cant get the better solution as the algorithm gets stuck"
   ]
  },
  {
   "cell_type": "markdown",
   "metadata": {},
   "source": [
    "En este caso la solución optima corresponderia a:\n",
    "    - Taxi 1: Cliente 5, 8 minutos.\n",
    "    - Taxi 2: Cliente 2, 2 minutos.\n",
    "    - Taxi 3: Cliente 1, 2 minutos.\n",
    "    - Taxi 4: Cliente 4, 5 minutos.\n",
    "    - Taxi 5: Cliente 3, 2 minutos."
   ]
  }
 ],
 "metadata": {
  "kernelspec": {
   "display_name": "Python 3",
   "language": "python",
   "name": "python3"
  },
  "language_info": {
   "codemirror_mode": {
    "name": "ipython",
    "version": 3
   },
   "file_extension": ".py",
   "mimetype": "text/x-python",
   "name": "python",
   "nbconvert_exporter": "python",
   "pygments_lexer": "ipython3",
   "version": "3.7.4"
  }
 },
 "nbformat": 4,
 "nbformat_minor": 4
}
